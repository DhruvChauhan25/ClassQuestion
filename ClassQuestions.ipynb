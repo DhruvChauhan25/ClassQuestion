{
 "cells": [
  {
   "cell_type": "code",
   "execution_count": 30,
   "id": "775f5942",
   "metadata": {},
   "outputs": [
    {
     "name": "stdout",
     "output_type": "stream",
     "text": [
      "Enter the size of a list8\n",
      "Enter the value1\n",
      "Enter the value2\n",
      "Enter the value3\n",
      "Enter the value7\n",
      "Enter the value5\n",
      "Enter the value6\n",
      "Enter the value4\n",
      "Enter the value8\n",
      " the starting index is 3 and ending index is 6\n"
     ]
    }
   ],
   "source": [
    "a=list()\n",
    "b=int(input(\"Enter the size of a list\"))\n",
    "for i in range(b):\n",
    "    c=int(input(\"Enter the value\"))\n",
    "    a.append(c)\n",
    "n=len(a)\n",
    "start=-1\n",
    "x=sorted(a)\n",
    "for i in range(n):\n",
    "    if a[i]!=x[i]:\n",
    "        if(start==-1):\n",
    "            start=i\n",
    "        else:\n",
    "            end=i \n",
    "print(f\" the starting index is {start} and ending index is {end}\")      "
   ]
  },
  {
   "cell_type": "code",
   "execution_count": 25,
   "id": "e1fcaf59",
   "metadata": {},
   "outputs": [
    {
     "name": "stdout",
     "output_type": "stream",
     "text": [
      "All permutations with repetition of ABC are:\n",
      "AAA\n",
      "AAB\n",
      "AAC\n",
      "ABA\n",
      "ABB\n",
      "ABC\n",
      "ACA\n",
      "ACB\n",
      "ACC\n",
      "BAA\n",
      "BAB\n",
      "BAC\n",
      "BBA\n",
      "BBB\n",
      "BBC\n",
      "BCA\n",
      "BCB\n",
      "BCC\n",
      "CAA\n",
      "CAB\n",
      "CAC\n",
      "CBA\n",
      "CBB\n",
      "CBC\n",
      "CCA\n",
      "CCB\n",
      "CCC\n"
     ]
    }
   ],
   "source": [
    "def toString(List):\n",
    "    return ''.join(List)\n",
    "def allLexicographicRecur (string, data, last, index):\n",
    "    length = len(string)\n",
    "    for i in range(length):\n",
    "        data[index] = string[i]\n",
    "        if index==last:\n",
    "            print (toString(data))\n",
    "        else:\n",
    "            allLexicographicRecur(string, data, last, index+1)\n",
    "def allLexicographic(string):\n",
    "    length = len(string)\n",
    "    data = [\"\"] * (length+1)\n",
    "    string = sorted(string)\n",
    "    allLexicographicRecur(string, data, length-1, 0)\n",
    "string = \"ABC\"\n",
    "print (\"All permutations with repetition of \" + string + \" are:\")\n",
    "allLexicographic(string)\n"
   ]
  },
  {
   "cell_type": "code",
   "execution_count": null,
   "id": "bca97670",
   "metadata": {},
   "outputs": [],
   "source": []
  }
 ],
 "metadata": {
  "kernelspec": {
   "display_name": "Python 3 (ipykernel)",
   "language": "python",
   "name": "python3"
  },
  "language_info": {
   "codemirror_mode": {
    "name": "ipython",
    "version": 3
   },
   "file_extension": ".py",
   "mimetype": "text/x-python",
   "name": "python",
   "nbconvert_exporter": "python",
   "pygments_lexer": "ipython3",
   "version": "3.9.7"
  }
 },
 "nbformat": 4,
 "nbformat_minor": 5
}
